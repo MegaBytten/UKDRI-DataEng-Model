{
 "cells": [
  {
   "cell_type": "markdown",
   "metadata": {},
   "source": [
    "Ethan de Villiers - 30th July, 5:30pm\n",
    "\n",
    "The following code is part of my assessment for the Data Engineer (Health Technology) position at Imperial. For additional information, I have not left this until the last minute, but I have been very busy this week developing a cervical cancer prediction convolutional neural network which I finalised today - only after which I saw the email alerting me of my shortlisting and assessment. If you would like to view the CNN (95.6% internal accuracy, 0.8 ROC AUC) please head to my portfolio site: https://megabytten.org/cervical-cancer-cnn/\n",
    "\n",
    "Thank you for this wonderful data project, and I apologise that this may not be my most accurate model, or most documented piece of software unfortunately due to my time constraint, but I please ask that you review some of the additional open-source software I have developed which is excellently documented and very user friendly, hosted on my portfolio site and on GitHub (https://github.com/MegaBytten?tab=repositories) as well.\n",
    "\n",
    "Without further introduction, the following code is my relatively step-by-step thinking/processing to pipeline and model the data provided in the sqlite3 data.db"
   ]
  },
  {
   "cell_type": "code",
   "execution_count": 200,
   "metadata": {},
   "outputs": [],
   "source": [
    "# data processing/pipelining libraries\n",
    "import sqlite3 # db interactions\n",
    "import pandas as pd # data processing\n",
    "import numpy as np # arrays\n",
    "import matplotlib.pyplot as plt # graphing\n",
    "from datetime import datetime # date formatting (can never escape date formatting)\n",
    "\n",
    "# Modelling libraries\n",
    "from sklearn.model_selection import train_test_split\n",
    "from sklearn.linear_model import LogisticRegression\n",
    "from sklearn.metrics import classification_report, confusion_matrix # reporting\n",
    "import joblib # required to save model"
   ]
  },
  {
   "cell_type": "markdown",
   "metadata": {},
   "source": [
    "# SECTION 1: Cleaning/Processing and Exploratory Analysis\n",
    "\n",
    "This following section details a lot of the manual bash/UNIX commands I did on SQL - recreated in python to get a feel for the database, data, and features.\n",
    "\n",
    "Please note each code section has a comment section up top detailing my thoughts and design choices as we progress along the code."
   ]
  },
  {
   "cell_type": "code",
   "execution_count": 184,
   "metadata": {},
   "outputs": [
    {
     "name": "stdout",
     "output_type": "stream",
     "text": [
      "('table', 'homes', 'homes', 2, 'CREATE TABLE \"homes\" (\\n\"id\" TEXT,\\n  \"multiple_occupancy\" INTEGER\\n)')\n",
      "('table', 'motion', 'motion', 5, 'CREATE TABLE \"motion\" (\\n\"id\" TEXT,\\n  \"home_id\" TEXT,\\n  \"datetime\" TEXT,\\n  \"location\" TEXT\\n)')\n"
     ]
    }
   ],
   "source": [
    "# I did the following in terminal by loading $ sqlite3 data.db -\n",
    "# but here is the python equivalent to understand the database's structure and any associated tables\n",
    "\n",
    "with sqlite3.connect('data.db') as conn:\n",
    "    cursor = conn.cursor()\n",
    "    schema = cursor.execute(\"SELECT * from sqlite_master\").fetchall()\n",
    "    for table in schema:\n",
    "        print(table)\n",
    "    "
   ]
  },
  {
   "cell_type": "code",
   "execution_count": 185,
   "metadata": {},
   "outputs": [
    {
     "name": "stdout",
     "output_type": "stream",
     "text": [
      "Items in table HOMES: 106\n",
      "Items in table MOTION: 580317\n"
     ]
    }
   ],
   "source": [
    "# From the above I can clearly see two tables have been created, HOMES and MOTION.\n",
    "# it seems MOTION holds most of the feature data, while HOMES holds our outcome data: multiple_occupancy.\n",
    "# Now lets see if we are right, and get a feel for the data inside of the tables\n",
    "\n",
    "with sqlite3.connect('data.db') as conn:\n",
    "    cursor = conn.cursor()\n",
    "    \n",
    "    # Fetch  count from the 'homes' table\n",
    "    cursor.execute(\"SELECT count(*) FROM homes\")\n",
    "    homes_count = cursor.fetchone()[0]  # Get the count value from the tuple\n",
    "    print(f\"Items in table HOMES: {homes_count}\")\n",
    "    \n",
    "    # Fetch count from the 'motion' table\n",
    "    cursor.execute(\"SELECT count(*) FROM motion\")\n",
    "    motion_count = cursor.fetchone()[0]  # Get the count value from the tuple\n",
    "    print(f\"Items in table MOTION: {motion_count}\")"
   ]
  },
  {
   "cell_type": "code",
   "execution_count": 186,
   "metadata": {},
   "outputs": [
    {
     "name": "stdout",
     "output_type": "stream",
     "text": [
      "('2024-01-01 00:00:10+00', 'lounge')\n",
      "('2024-01-01 00:00:17+00', 'lounge')\n",
      "('2024-01-01 00:00:18+00', 'lounge')\n",
      "('2024-01-01 00:00:43+00', 'lounge')\n",
      "('2024-01-01 00:00:57+00', 'lounge')\n",
      "('2024-01-01 00:01:24+00', 'bedroom1')\n",
      "('2024-01-01 00:01:24+00', 'lounge')\n",
      "('2024-01-01 00:01:24+00', 'bedroom1')\n",
      "('2024-01-01 00:01:25+00', 'bedroom1')\n",
      "('2024-01-01 00:01:31+00', 'lounge')\n",
      "('2024-01-01 00:01:37+00', 'hallway')\n",
      "('2024-01-01 00:01:40+00', 'lounge')\n",
      "('2024-01-01 00:01:47+00', 'kitchen')\n",
      "('2024-01-01 00:02:05+00', 'hallway')\n",
      "('2024-01-01 00:02:05+00', 'kitchen')\n",
      "('2024-01-01 00:02:06+00', 'bedroom1')\n",
      "('2024-01-01 00:02:08+00', 'lounge')\n",
      "('2024-01-01 00:02:17+00', 'lounge')\n",
      "('2024-01-01 00:02:30+00', 'lounge')\n",
      "('2024-01-01 00:02:40+00', 'lounge')\n"
     ]
    }
   ],
   "source": [
    "# We can see there is a one to many relationship between homes and motion, where home_id is the foreign key to the HOMES db\n",
    "# Now lets dive into some of the actual data, and explore what our possible model features: datetime and location look like\n",
    "\n",
    "with sqlite3.connect('data.db') as conn:\n",
    "    cursor = conn.cursor()\n",
    "    \n",
    "    # Fetch  count from the 'homes' table\n",
    "    cursor.execute(\"SELECT datetime, location FROM motion limit 20\")\n",
    "    rows = cursor.fetchall()\n",
    "    for row in rows:\n",
    "        print(row)"
   ]
  },
  {
   "cell_type": "code",
   "execution_count": 187,
   "metadata": {},
   "outputs": [
    {
     "name": "stdout",
     "output_type": "stream",
     "text": [
      "id had 0 missing values\n",
      "home_id had 0 missing values\n",
      "datetime had 0 missing values\n",
      "location had 0 missing values\n"
     ]
    }
   ],
   "source": [
    "# We can see datetime is a string formatted to include date and time. We can extract lots of data from this, but will require some processing.\n",
    "# Secondly we can see location is not geospatial coordinates/data, and simple non-binary categorical.\n",
    "# We can likely use data from both of these database columns to train our model.\n",
    "# Lets first do a sparsity analysis to see what % of the data is missing. This is important for feature selection as we cannot train a model if we are missing a lot of values.\n",
    "\n",
    "with sqlite3.connect('data.db') as conn:\n",
    "    cursor = conn.cursor()\n",
    "    \n",
    "    # Getting column names - using structural query PRAGMA and extracting from cursor.fetchall()\n",
    "    cursor.execute(\"PRAGMA table_info(motion)\")  # PRAGMA is SQLite-unique command for structure\n",
    "    columns = []\n",
    "    for item in cursor.fetchall():\n",
    "        columns.append(item[1])\n",
    "    \n",
    "    sparsity_dict = {} # empty dict\n",
    "    \n",
    "    # now that we have a dynamically generated list using PRAGMA:\n",
    "    # can iterate through each column and see if it has any missing values\n",
    "    for column in columns:\n",
    "        query = f\"select count(*) from motion where {column} is NULL or {column} = '' or {column} = ' '\"\n",
    "        cursor.execute(query)\n",
    "        count = cursor.fetchone()[0]\n",
    "        sparsity_dict[column] = count\n",
    "\n",
    "# print\n",
    "for column in sparsity_dict:\n",
    "    print(f\"{column} had {sparsity_dict[column]} missing values\")"
   ]
  },
  {
   "cell_type": "code",
   "execution_count": 188,
   "metadata": {},
   "outputs": [
    {
     "name": "stdout",
     "output_type": "stream",
     "text": [
      "              date         time   location                           home_id  \\\n",
      "0       2024-01-01     0.166667     lounge  205c42ec747e2db13cb92087a99433f1   \n",
      "1       2024-01-01     0.283333     lounge  7d2f2e0a9e059b4fb8106bb0ad4b8a39   \n",
      "2       2024-01-01     0.300000     lounge  44a880cc6fc3a7db3464092f650ae7f1   \n",
      "3       2024-01-01     0.716667     lounge  49b83fce41b676266b98cd1e095f1c11   \n",
      "4       2024-01-01     0.950000     lounge  14328a0b7574e912c2e23d62c9476a07   \n",
      "...            ...          ...        ...                               ...   \n",
      "580312  2024-01-31  1438.433333  bathroom1  3a1f53e2e242bff03301a250135f894b   \n",
      "580313  2024-01-31  1438.600000    kitchen  37b99328702f9fdc68c431a4ac450f2e   \n",
      "580314  2024-01-31  1439.033333   bedroom1  3a1f53e2e242bff03301a250135f894b   \n",
      "580315  2024-01-31  1439.150000    hallway  2b5ce37a65e82735416d69b987d99fe8   \n",
      "580316  2024-01-31  1439.200000    kitchen  37b99328702f9fdc68c431a4ac450f2e   \n",
      "\n",
      "                                      id  \n",
      "0       e41218b439d933a1cd9ad158f78e9198  \n",
      "1       92d48d869ae50b0764cfb8d70494f618  \n",
      "2       65c18ba64884442dd47c2fd4cf3630e4  \n",
      "3       90d6336d189c929aa50fa08e5aee5f41  \n",
      "4       6e3d73bed24b95ffdfe5ec017787f039  \n",
      "...                                  ...  \n",
      "580312  5ec75a93dcc136e6a4c7a4483d60b2ed  \n",
      "580313  406c70038a540d29b1e68250d5ed341c  \n",
      "580314  5168c52c3c022d747c81a6e6ce868e3f  \n",
      "580315  40cad449e7cef4164b02672e8caff379  \n",
      "580316  85cd6fe2cc3e585b17c4f7b9aaa4a439  \n",
      "\n",
      "[580317 rows x 5 columns]\n"
     ]
    }
   ],
   "source": [
    "# 0 sparsity! This is a very clean and well maintained dataset\n",
    "# We now dont need any smart SQL queries to optimally extract data and avoid missingness,\n",
    "# we can directly pull data into a pandas df for more complex processing/cleaning\n",
    "# In this chunk we will manually query all columns (future-proof any schema changes to DB), and load it into a features df.\n",
    "\n",
    "data = {} # empty dictionary to store extracted data\n",
    "df = None # initialize variable in case (if rows) fails\n",
    "\n",
    "# Connect to the database\n",
    "with sqlite3.connect('data.db') as conn:\n",
    "    cursor = conn.cursor()\n",
    "    \n",
    "    # get all data from motion - manually choose columns is better practice in case database structure changes in the future\n",
    "    cursor.execute(\"select datetime, location, home_id, id from motion\")\n",
    "    rows = cursor.fetchall()\n",
    "    \n",
    "    # Initialize lists for each column\n",
    "    date, time, location, home_id, id_list = [],[],[],[],[]\n",
    "\n",
    "    if rows:\n",
    "        for row in rows:\n",
    "            datetime_value, location_value, home_id_value, id_value = row\n",
    "            \n",
    "            # Split datetime into date and time, removing milliseconds - potentially lost data, but only a concern if model is under-fitting.\n",
    "            datetime_split = datetime_value.split()\n",
    "            date.append(datetime_split[0])\n",
    "            time.append(datetime_split[1][:-3])\n",
    "            \n",
    "            # Append other column values to respective lists\n",
    "            location.append(location_value)\n",
    "            home_id.append(home_id_value)\n",
    "            id_list.append(id_value)\n",
    "\n",
    "        # Convert time to numeric minutes from midnight\n",
    "        def time_to_minutes(time_str):\n",
    "            dt_object = datetime.strptime(time_str, '%H:%M:%S')\n",
    "            return dt_object.hour * 60 + dt_object.minute + dt_object.second / 60\n",
    "        \n",
    "        time = list(map(time_to_minutes, time)) # apply function and save list of seconds in stead of string formatted\n",
    "        \n",
    "        # Create a pandas DataFrame from the collected data\n",
    "        df = pd.DataFrame({\n",
    "            'date': date,\n",
    "            'time': time,\n",
    "            'location': location,\n",
    "            'home_id': home_id,\n",
    "            'id': id_list\n",
    "        })\n",
    "\n",
    "\n",
    "print(df)  # Display the DataFrame - if any."
   ]
  },
  {
   "cell_type": "code",
   "execution_count": 189,
   "metadata": {},
   "outputs": [
    {
     "name": "stdout",
     "output_type": "stream",
     "text": [
      "                                   id  multiple_tenancy\n",
      "0    dc922bd9bf8a2a9437642fe0dce9dcaa                 0\n",
      "1    d40fc88629271da7b5833ed3f3222d17                 1\n",
      "2    3fb064da180f02862063eca8e3b609c0                 1\n",
      "3    16d71b9c46d9abd765bf395818efe527                 0\n",
      "4    458264665736fd26184a8ea5641e6c48                 1\n",
      "..                                ...               ...\n",
      "101  dbe580ed60d7c329931d98a0e2ad0ea3                 1\n",
      "102  04a16138cd7e0fa768858ff7c02856d8                 1\n",
      "103  62c8145530aca30cb0455dc386c0a9d6                 1\n",
      "104  3a5cc5ac41ab3b18b63d6d8366e30fb0                 1\n",
      "105  3a1f53e2e242bff03301a250135f894b                 0\n",
      "\n",
      "[106 rows x 2 columns]\n"
     ]
    }
   ],
   "source": [
    "# Great - features have been extracted to a dtaframe sucessfully\n",
    "# Now lets extract the outcome data to another pandas df, so that we can left-join the outcome onto features.\n",
    "# we could have left-joined directly in SQLite3 and created a new table - but the design choice to do it in Pandas is because the dataset is not >10GB in size.\n",
    "# If the database was larger, a left-join into a new table and then a pull into a pd df would have been chosen.\n",
    "\n",
    "# getting all the data by column\n",
    "with sqlite3.connect('data.db') as conn:\n",
    "    cursor = conn.cursor()\n",
    "    \n",
    "    # execute the query to fetch ID and multiple_tenancy data\n",
    "    cursor.execute(\"select id, multiple_occupancy from homes\")\n",
    "    rows = cursor.fetchall()\n",
    "    \n",
    "    ids, multiple_tenancy = [],[]\n",
    "\n",
    "    if rows:\n",
    "        # extract the data into separate lists\n",
    "        for row in rows:\n",
    "            ids.append(row[0])\n",
    "            multiple_tenancy.append(row[1])\n",
    "\n",
    "        # Create a pandas DataFrame from the lists\n",
    "        outcome_df = pd.DataFrame({\n",
    "            'id': ids,\n",
    "            'multiple_tenancy': multiple_tenancy\n",
    "        })\n",
    "\n",
    "print(outcome_df)"
   ]
  },
  {
   "cell_type": "code",
   "execution_count": 190,
   "metadata": {},
   "outputs": [
    {
     "name": "stdout",
     "output_type": "stream",
     "text": [
      "              date         time   location                           home_id  \\\n",
      "0       2024-01-01     0.166667     lounge  205c42ec747e2db13cb92087a99433f1   \n",
      "1       2024-01-01     0.283333     lounge  7d2f2e0a9e059b4fb8106bb0ad4b8a39   \n",
      "2       2024-01-01     0.300000     lounge  44a880cc6fc3a7db3464092f650ae7f1   \n",
      "3       2024-01-01     0.716667     lounge  49b83fce41b676266b98cd1e095f1c11   \n",
      "4       2024-01-01     0.950000     lounge  14328a0b7574e912c2e23d62c9476a07   \n",
      "...            ...          ...        ...                               ...   \n",
      "580312  2024-01-31  1438.433333  bathroom1  3a1f53e2e242bff03301a250135f894b   \n",
      "580313  2024-01-31  1438.600000    kitchen  37b99328702f9fdc68c431a4ac450f2e   \n",
      "580314  2024-01-31  1439.033333   bedroom1  3a1f53e2e242bff03301a250135f894b   \n",
      "580315  2024-01-31  1439.150000    hallway  2b5ce37a65e82735416d69b987d99fe8   \n",
      "580316  2024-01-31  1439.200000    kitchen  37b99328702f9fdc68c431a4ac450f2e   \n",
      "\n",
      "                                      id  multiple_tenancy  \n",
      "0       e41218b439d933a1cd9ad158f78e9198                 1  \n",
      "1       92d48d869ae50b0764cfb8d70494f618                 1  \n",
      "2       65c18ba64884442dd47c2fd4cf3630e4                 1  \n",
      "3       90d6336d189c929aa50fa08e5aee5f41                 0  \n",
      "4       6e3d73bed24b95ffdfe5ec017787f039                 1  \n",
      "...                                  ...               ...  \n",
      "580312  5ec75a93dcc136e6a4c7a4483d60b2ed                 0  \n",
      "580313  406c70038a540d29b1e68250d5ed341c                 0  \n",
      "580314  5168c52c3c022d747c81a6e6ce868e3f                 0  \n",
      "580315  40cad449e7cef4164b02672e8caff379                 0  \n",
      "580316  85cd6fe2cc3e585b17c4f7b9aaa4a439                 0  \n",
      "\n",
      "[580317 rows x 6 columns]\n",
      "Unique home_id in df: 50\n",
      "Unique home_id in merged_df: 50\n"
     ]
    }
   ],
   "source": [
    "# Both outcome and feature data have been extracted, now left_join outcomes onto our features for model training\n",
    "\n",
    "outcome_df = outcome_df.rename(columns={\"id\": \"old_id\"}) # renaming id column to avoid conflicts\n",
    "\n",
    "# ensure consistent data types for merging\n",
    "outcome_df['old_id'] = outcome_df['old_id'].astype(str)\n",
    "df['home_id'] = df['home_id'].astype(str)\n",
    "\n",
    "# left join\n",
    "merged_df = pd.merge(df, outcome_df, how='left', left_on='home_id', right_on='old_id')\n",
    "merged_df = merged_df.drop(columns=['old_id']) # Drop extra 'old_id' column, duplicated by feature df's \"home_id\"\n",
    "\n",
    "print(merged_df)\n",
    "\n",
    "# Print unique home_id count in the original DataFrame and merged DataFrame\n",
    "print(\"Unique home_id in df:\", len(df['home_id'].unique()))\n",
    "print(\"Unique home_id in merged_df:\", len(merged_df['home_id'].unique()))"
   ]
  },
  {
   "cell_type": "code",
   "execution_count": 191,
   "metadata": {},
   "outputs": [
    {
     "data": {
      "image/png": "[encoded data removed]",
      "text/plain": [
       "<Figure size 640x480 with 1 Axes>"
      ]
     },
     "metadata": {},
     "output_type": "display_data"
    },
    {
     "data": {
      "image/png": "[encoded data removed]",
      "text/plain": [
       "<Figure size 640x480 with 1 Axes>"
      ]
     },
     "metadata": {},
     "output_type": "display_data"
    },
    {
     "data": {
      "image/png": "[encoded data removed]",
      "text/plain": [
       "<Figure size 640x480 with 1 Axes>"
      ]
     },
     "metadata": {},
     "output_type": "display_data"
    },
    {
     "data": {
      "image/png": "[encoded data removed]",
      "text/plain": [
       "<Figure size 640x480 with 1 Axes>"
      ]
     },
     "metadata": {},
     "output_type": "display_data"
    }
   ],
   "source": [
    "# Results from the previous query are very interesting. our merged df (merged_df) and our feature df (df) only have 50 unique houses, \n",
    "# while our outcome_df has 106 unique houses. This suggests not every house captures motion,\n",
    "# and unfortunately further decreases our sample size for outcome training/validation - likely reducing model accuracy.\n",
    "# I spent approximately 10 minutes triple-checking to ensure that we did not lose any data in the previous step\n",
    "\n",
    "# Now that we have our combined data, let us visualise the distributions, and get a better feel of:\n",
    "# - how many categories our 'location' feature has\n",
    "# - when our motion data began/terminated (dates)\n",
    "# - the distribution of our time (should be lower during the night)\n",
    "\n",
    "plots = [\"date\", \"time\", \"location\"]\n",
    "\n",
    "for plot in plots:\n",
    "    plt.hist(merged_df[plot], edgecolor='black')\n",
    "    plt.title(plot)\n",
    "    plt.xticks(rotation=45)\n",
    "    plt.show()\n",
    "\n",
    "plt.hist(outcome_df['multiple_tenancy'])\n",
    "plt.title(\"Tenancy binary outcome data\")\n",
    "plt.show()\n"
   ]
  },
  {
   "cell_type": "markdown",
   "metadata": {},
   "source": [
    "## Section 1: Discussion:\n",
    "\n",
    "We have gone through and understood the structure of the database, the quantity of data we are working with, as well as the structure of the datapoints within each value.\n",
    "\n",
    "We conducted normal data pipeline processing/cleaning, date reformatting, getting time in a usable format, and merging our data in preparation of model development.\n",
    "\n",
    "Finally, we used matplotlib.pyplot to visualise the distributions of our data. This is perhaps the most important step going forwards:\n",
    "- Motion data spans a month from the month of Jan 2024\n",
    "- Motion data was heavily non-normally distributed, with very little data collected in the morning, most data collected around midday, and then decreasing amounts collected into night time.\n",
    "- Motion data was primarily captured in kitchen/lounge, followed by (not in order): bedroom bathroom and hallway.\n",
    "- __Most Importantly__ Outcome data is binary! This means our prediction models will need to be classification models, such as a binomial logistic regression. Equally as important, the case/controls are relatively balanced, which makes for a sensitive and specific model. \n",
    "\n",
    "In order to do multiple logistic regression, all non-binary categorical variables need to be one-hot encoded (location). We'll also convert the date values from the datetime column into separated year + month + day columns for further power. \n",
    "\n",
    "Increasing model effectiveness usually requires standardising/normalising numeric variables. As the date values are relatively small and have a small distribution, standardisation is not essential for this. However, investigating the time distribution shows an extreme non-normal distribution of high range, which would benefit from min-max normalisation."
   ]
  },
  {
   "cell_type": "markdown",
   "metadata": {},
   "source": [
    "# Section 2: Binomial Logistic Regression: Preprocessing, training and validation + evaluation"
   ]
  },
  {
   "cell_type": "code",
   "execution_count": 192,
   "metadata": {},
   "outputs": [
    {
     "name": "stdout",
     "output_type": "stream",
     "text": [
      "              date         time                           home_id  \\\n",
      "0       2024-01-01     0.166667  205c42ec747e2db13cb92087a99433f1   \n",
      "1       2024-01-01     0.283333  7d2f2e0a9e059b4fb8106bb0ad4b8a39   \n",
      "2       2024-01-01     0.300000  44a880cc6fc3a7db3464092f650ae7f1   \n",
      "3       2024-01-01     0.716667  49b83fce41b676266b98cd1e095f1c11   \n",
      "4       2024-01-01     0.950000  14328a0b7574e912c2e23d62c9476a07   \n",
      "...            ...          ...                               ...   \n",
      "580312  2024-01-31  1438.433333  3a1f53e2e242bff03301a250135f894b   \n",
      "580313  2024-01-31  1438.600000  37b99328702f9fdc68c431a4ac450f2e   \n",
      "580314  2024-01-31  1439.033333  3a1f53e2e242bff03301a250135f894b   \n",
      "580315  2024-01-31  1439.150000  2b5ce37a65e82735416d69b987d99fe8   \n",
      "580316  2024-01-31  1439.200000  37b99328702f9fdc68c431a4ac450f2e   \n",
      "\n",
      "                                      id  multiple_tenancy  year month day  \\\n",
      "0       e41218b439d933a1cd9ad158f78e9198                 1  2024    01  01   \n",
      "1       92d48d869ae50b0764cfb8d70494f618                 1  2024    01  01   \n",
      "2       65c18ba64884442dd47c2fd4cf3630e4                 1  2024    01  01   \n",
      "3       90d6336d189c929aa50fa08e5aee5f41                 0  2024    01  01   \n",
      "4       6e3d73bed24b95ffdfe5ec017787f039                 1  2024    01  01   \n",
      "...                                  ...               ...   ...   ...  ..   \n",
      "580312  5ec75a93dcc136e6a4c7a4483d60b2ed                 0  2024    01  31   \n",
      "580313  406c70038a540d29b1e68250d5ed341c                 0  2024    01  31   \n",
      "580314  5168c52c3c022d747c81a6e6ce868e3f                 0  2024    01  31   \n",
      "580315  40cad449e7cef4164b02672e8caff379                 0  2024    01  31   \n",
      "580316  85cd6fe2cc3e585b17c4f7b9aaa4a439                 0  2024    01  31   \n",
      "\n",
      "        location_WC1  location_bathroom1  location_bedroom1  \\\n",
      "0              False               False              False   \n",
      "1              False               False              False   \n",
      "2              False               False              False   \n",
      "3              False               False              False   \n",
      "4              False               False              False   \n",
      "...              ...                 ...                ...   \n",
      "580312         False                True              False   \n",
      "580313         False               False              False   \n",
      "580314         False               False               True   \n",
      "580315         False               False              False   \n",
      "580316         False               False              False   \n",
      "\n",
      "        location_conservatory  location_dining room  location_hallway  \\\n",
      "0                       False                 False             False   \n",
      "1                       False                 False             False   \n",
      "2                       False                 False             False   \n",
      "3                       False                 False             False   \n",
      "4                       False                 False             False   \n",
      "...                       ...                   ...               ...   \n",
      "580312                  False                 False             False   \n",
      "580313                  False                 False             False   \n",
      "580314                  False                 False             False   \n",
      "580315                  False                 False              True   \n",
      "580316                  False                 False             False   \n",
      "\n",
      "        location_kitchen  location_living room  location_lounge  \\\n",
      "0                  False                 False             True   \n",
      "1                  False                 False             True   \n",
      "2                  False                 False             True   \n",
      "3                  False                 False             True   \n",
      "4                  False                 False             True   \n",
      "...                  ...                   ...              ...   \n",
      "580312             False                 False            False   \n",
      "580313              True                 False            False   \n",
      "580314             False                 False            False   \n",
      "580315             False                 False            False   \n",
      "580316              True                 False            False   \n",
      "\n",
      "        location_study  normalised_time  \n",
      "0                False         0.166667  \n",
      "1                False         0.283333  \n",
      "2                False         0.300000  \n",
      "3                False         0.716667  \n",
      "4                False         0.950000  \n",
      "...                ...              ...  \n",
      "580312           False      1438.433333  \n",
      "580313           False      1438.600000  \n",
      "580314           False      1439.033333  \n",
      "580315           False      1439.150000  \n",
      "580316           False      1439.200000  \n",
      "\n",
      "[580317 rows x 19 columns]\n"
     ]
    }
   ],
   "source": [
    "# Firstly, the date data currently holds a wealth of year/month/day data that is unusable in its current string format\n",
    "# lets break these apart, so that we have numeric data to feed into our model instead.\n",
    "\n",
    "\n",
    "years_data, months_data, days_data = [],[],[]\n",
    "for date in merged_df['date']:\n",
    "    split_string = date.split('-') # split using the '-' present between yyyy-mm-dd\n",
    "    years_data.append(split_string[0])\n",
    "    months_data.append(split_string[1])\n",
    "    days_data.append(split_string[2])\n",
    "\n",
    "merged_df['year'] = years_data\n",
    "merged_df['month'] = months_data\n",
    "merged_df['day'] = days_data\n",
    "\n",
    "# similarly, our location holds too many string levels to be of efficient use in our model\n",
    "# lets one-hot encode this to binary columns associated with each location instead\n",
    "merged_df = pd.get_dummies(merged_df, columns=['location'])\n",
    "\n",
    "# finally, as previously discussed, normalising continuous variables can provide machine learning algorithms a more fair approach to scale their units\n",
    "# as numeric value/range for our time can get quite large, and it has a non-normal distribution, we min-max normalise it.\n",
    "# normalising time variable\n",
    "time_max = merged_df['time'].max()\n",
    "time_min = merged_df['time'].min()\n",
    "normalised_time = []\n",
    "for value in merged_df['time']:\n",
    "    normalised_time.append(value - time_min /  time_max - time_min)\n",
    "\n",
    "merged_df['normalised_time'] = normalised_time\n",
    "\n",
    "# print df to view\n",
    "print(merged_df)"
   ]
  },
  {
   "cell_type": "code",
   "execution_count": null,
   "metadata": {},
   "outputs": [],
   "source": [
    "# Fantastic, data has been preprocessed into formats that can be usefully fed into our binomial logistic regression\n",
    "# as previously discussed, I would have appreciated to develop a fully connected feedforward neural network for improved model complexity and accuracy.\n",
    "# but due to time constraints we will stick with a simple logistic regression. - Lets use Scikit-learn to create our training and test split\n",
    "# then we can train our model and test it, while recording model performance metrics\n",
    "\n",
    "# hard-code features to use in model, extracted from merge_df.columns\n",
    "features = ['year', 'month', 'day', 'location_WC1', 'location_bathroom1', 'location_bedroom1',\n",
    "             'location_conservatory', 'location_dining room', 'location_hallway', 'location_kitchen',\n",
    "             'location_living room', 'location_lounge', 'location_study', 'normalised_time']\n",
    "\n",
    "X = merged_df[features]\n",
    "y = merged_df['multiple_tenancy']\n",
    "\n",
    "# Split the data into training and testing sets using scikit's train_test_split function\n",
    "X_train, X_test, y_train, y_test = train_test_split(X, y, test_size=0.1, random_state=0)\n",
    "\n",
    "# Initialize the Logistic Regression model\n",
    "# I tried numerous max iterations, diminishing returns: model performance began losing improvement at approximately 1,500-2,000 iterations\n",
    "model = LogisticRegression(random_state=0)\n",
    "\n",
    "# Train the model\n",
    "model.fit(X_train, y_train)"
   ]
  },
  {
   "cell_type": "code",
   "execution_count": 194,
   "metadata": {},
   "outputs": [
    {
     "name": "stdout",
     "output_type": "stream",
     "text": [
      "year: 0.0007075150611965281\n",
      "month: 3.495627860211427e-07\n",
      "day: -0.008795518577700053\n",
      "location_WC1: -0.6142987265640885\n",
      "location_bathroom1: -0.14162449872821062\n",
      "location_bedroom1: -0.6226177502483364\n",
      "location_conservatory: 3.587239624444616\n",
      "location_dining room: -1.7444213070131847\n",
      "location_hallway: 0.2656482265281044\n",
      "location_kitchen: -0.7680849176890745\n",
      "location_living room: -2.015823924961559\n",
      "location_lounge: -1.0525068555092585\n",
      "location_study: 3.106490474101128\n",
      "normalised_time: 3.1045121122495746e-05\n",
      "Intercept: 3.5086847963214064e-07\n",
      "Classification Report:\n",
      "              precision    recall  f1-score   support\n",
      "\n",
      "           0       0.61      0.07      0.13     19539\n",
      "           1       0.67      0.98      0.80     38493\n",
      "\n",
      "    accuracy                           0.67     58032\n",
      "   macro avg       0.64      0.52      0.46     58032\n",
      "weighted avg       0.65      0.67      0.57     58032\n",
      "\n",
      "Confusion Matrix:\n",
      "[[ 1396 18143]\n",
      " [  886 37607]]\n"
     ]
    }
   ],
   "source": [
    "# Make predictions\n",
    "y_pred = model.predict(X_test)\n",
    "\n",
    "# saving / Exporting the Model\n",
    "joblib.dump(model, 'tenancy_logreg_model.pkl')\n",
    "\n",
    "# model coefficients and intercept for reporting\n",
    "for i in range(0, len(X_train.columns)):\n",
    "    print(f\"{X_train.columns[i]}: {model.coef_[0][i]}\")\n",
    "print(\"Intercept:\", model.intercept_[0])\n",
    "\n",
    "# MODEL EVAL:\n",
    "print(\"Classification Report:\")\n",
    "print(classification_report(y_test, y_pred))\n",
    "\n",
    "print(\"Confusion Matrix:\")\n",
    "print(confusion_matrix(y_test, y_pred))"
   ]
  },
  {
   "cell_type": "markdown",
   "metadata": {},
   "source": [
    "# Section 3: Importing and Using the Model\n",
    "\n",
    "Very simply, the Joblib library (optimised for storing Scikit-learn models as Numpy arrays) can be used to import the model with the code seen below. To use the model is similarly as simple, I have provided a template data-preprocessing pipeline which formats the data for model usage."
   ]
  },
  {
   "cell_type": "code",
   "execution_count": null,
   "metadata": {},
   "outputs": [],
   "source": [
    "# LOADING the model\n",
    "# import joblib  # uncomment and run if you do not have joblib loaded into the venv / runtime already\n",
    "loaded_model = joblib.load('tenancy_logreg_model.pkl')"
   ]
  },
  {
   "cell_type": "code",
   "execution_count": null,
   "metadata": {},
   "outputs": [],
   "source": [
    "# THIS CODE SECTION provides a template pipeline to convert any dataframe into a model-compatible format\n",
    "\n",
    "# For the model to provide accurate predictions, it requires data on the following features\n",
    "REQUIRED_FEATURES = [\n",
    "    'year', 'month', 'day',\n",
    "    'location_WC1', 'location_bathroom1', 'location_bedroom1',\n",
    "    'location_conservatory', 'location_dining room', 'location_hallway',\n",
    "    'location_kitchen','location_living room', 'location_lounge',\n",
    "    'location_study', 'normalised_time'\n",
    "]\n",
    "\n",
    "# Firstly, with sample data, ensure the dataframe containing the prediction data has the same columns and positional indexes of the columns\n",
    "sample_df = pd.df({\n",
    "    'yr': [2023],\n",
    "    'mo': [7],\n",
    "    'day': [15],\n",
    "    'loc_WC1': [0],\n",
    "    'loc_bathroom1': [0],\n",
    "    'loc_bedroom1': [0],\n",
    "    'loc_conservatory': [0],\n",
    "    'loc_dining_room': [0],\n",
    "    'loc_hallway': [0],\n",
    "    'loc_kitchen': [1],\n",
    "    'loc_living_room': [0],\n",
    "    'loc_lounge': [0],\n",
    "    'loc_study': [0],\n",
    "    'norm_time': [0.75]\n",
    "})\n",
    "\n",
    "# If names do not match, but positional/indexes are matched - you can use:\n",
    "sample_df.columns = REQUIRED_FEATURES\n",
    "\n",
    "# Once columns are renamed, use the model to predict values by providing the correctly-formatted df\n",
    "# notice: model.predict() returns an ARRAY corresponding to the row index of the data in the dataframe. \n",
    "predictions_array = loaded_model.predict(sample_df) \n",
    "\n",
    "# you can save the array of predictions to a results dataframe\n",
    "results_df = sample_df.copy()\n",
    "results_df['predictions'] = predictions_array"
   ]
  },
  {
   "cell_type": "markdown",
   "metadata": {},
   "source": [
    "# Conclusion\n",
    "\n",
    "The logistic regression model showed an overall accuracy of 67% in classifying multi_tenancy classes, primarily hindered by the over-classification of multi-tenancy. This can be seen from the high false positive rate in the confusion matrix, while the low false negative, supplemented by the high positive class recall of 0.98 and precision of 0.67 indicates that the model can sufficiently detect multi-tenancy housing.\n",
    "\n",
    "Although relatively under-performant/-powered, due to the high sensitivity (positive recall), this simple model can be applied as a screening tool to detect multi-tenancy houses where lead generation is important, and where false-positives are inconsequential. Further improvements would be to consider alternative model architectures (fully connected neural network with TensorFlow), to one-hot-encode the months, and to re-introduce milliseconds for possibly improved performance without enriching the data.\n",
    "\n",
    "Overall, the work took approximately 4 hours, and the additional documentation took approximately 0.5-1 hour. I thoroughly enjoyed this project, and sincerely thank you for the potential opportunity to work with your team and help deliver the data where it needs to go!\n",
    "\n",
    "I look forward to hearing from you soon!\n",
    "Ethan de Villiers"
   ]
  }
 ],
 "metadata": {
  "kernelspec": {
   "display_name": "imp_assessment",
   "language": "python",
   "name": "python3"
  },
  "language_info": {
   "codemirror_mode": {
    "name": "ipython",
    "version": 3
   },
   "file_extension": ".py",
   "mimetype": "text/x-python",
   "name": "python",
   "nbconvert_exporter": "python",
   "pygments_lexer": "ipython3",
   "version": "3.10.3"
  }
 },
 "nbformat": 4,
 "nbformat_minor": 2
}
